{
 "cells": [
  {
   "cell_type": "markdown",
   "id": "6ad70752",
   "metadata": {},
   "source": [
    "# Project: Write a Data Science Blog Post"
   ]
  },
  {
   "cell_type": "markdown",
   "id": "f4744148",
   "metadata": {},
   "source": [
    "## Section 1: Business Understanding\n",
    "My project is about houses in Manhattan and here are the questions that I will answer:\n",
    "#### **Question 1: What are the top 10 sales based on the neighborhoods?**\n",
    "#### **Question 2: What are the top 10 sales based on type of home?**\n",
    "#### **Question 3: What are the top 10 home average prices based on the type of home?**"
   ]
  },
  {
   "cell_type": "code",
   "execution_count": 2,
   "id": "42c972df",
   "metadata": {},
   "outputs": [],
   "source": [
    "#import libraries\n",
    "import pandas as pd\n",
    "import numpy as np\n",
    "import matplotlib.pyplot as plt\n",
    "import seaborn as sns\n",
    "%matplotlib inline\n",
    "import plotly.express as px"
   ]
  },
  {
   "cell_type": "markdown",
   "id": "fac881a6",
   "metadata": {},
   "source": [
    "## Section 2: Data Understanding"
   ]
  },
  {
   "cell_type": "code",
   "execution_count": 3,
   "id": "26e32ed1",
   "metadata": {},
   "outputs": [],
   "source": [
    "#import data\n",
    "df = pd.read_csv('sales_for_manhatten.csv')"
   ]
  },
  {
   "cell_type": "code",
   "execution_count": 4,
   "id": "e043d044",
   "metadata": {},
   "outputs": [
    {
     "data": {
      "text/plain": [
       "(41, 8)"
      ]
     },
     "execution_count": 4,
     "metadata": {},
     "output_type": "execute_result"
    }
   ],
   "source": [
    "#to find numbers of rows and columns\n",
    "df.shape"
   ]
  },
  {
   "cell_type": "code",
   "execution_count": 5,
   "id": "e8ab3e71",
   "metadata": {},
   "outputs": [
    {
     "name": "stdout",
     "output_type": "stream",
     "text": [
      "<class 'pandas.core.frame.DataFrame'>\n",
      "RangeIndex: 41 entries, 0 to 40\n",
      "Data columns (total 8 columns):\n",
      " #   Column                   Non-Null Count  Dtype \n",
      "---  ------                   --------------  ----- \n",
      " 0   NEIGHBORHOOD             41 non-null     object\n",
      " 1   TYPE OF HOME             41 non-null     object\n",
      " 2   TOTAL NO. OF PROPERTIES  41 non-null     int64 \n",
      " 3   NUMBER OF SALES          41 non-null     int64 \n",
      " 4   LOWEST SALE PRICE        41 non-null     int64 \n",
      " 5   AVERAGE SALE PRICE       41 non-null     int64 \n",
      " 6   MEDIAN SALE PRICE        41 non-null     int64 \n",
      " 7   HIGHEST SALE PRICE       41 non-null     int64 \n",
      "dtypes: int64(6), object(2)\n",
      "memory usage: 2.7+ KB\n"
     ]
    }
   ],
   "source": [
    "df.info()"
   ]
  },
  {
   "cell_type": "code",
   "execution_count": 6,
   "id": "a0085294",
   "metadata": {},
   "outputs": [
    {
     "data": {
      "text/html": [
       "<div>\n",
       "<style scoped>\n",
       "    .dataframe tbody tr th:only-of-type {\n",
       "        vertical-align: middle;\n",
       "    }\n",
       "\n",
       "    .dataframe tbody tr th {\n",
       "        vertical-align: top;\n",
       "    }\n",
       "\n",
       "    .dataframe thead th {\n",
       "        text-align: right;\n",
       "    }\n",
       "</style>\n",
       "<table border=\"1\" class=\"dataframe\">\n",
       "  <thead>\n",
       "    <tr style=\"text-align: right;\">\n",
       "      <th></th>\n",
       "      <th>NEIGHBORHOOD</th>\n",
       "      <th>TYPE OF HOME</th>\n",
       "      <th>TOTAL NO. OF PROPERTIES</th>\n",
       "      <th>NUMBER OF SALES</th>\n",
       "      <th>LOWEST SALE PRICE</th>\n",
       "      <th>AVERAGE SALE PRICE</th>\n",
       "      <th>MEDIAN SALE PRICE</th>\n",
       "      <th>HIGHEST SALE PRICE</th>\n",
       "    </tr>\n",
       "  </thead>\n",
       "  <tbody>\n",
       "    <tr>\n",
       "      <th>0</th>\n",
       "      <td>CHELSEA</td>\n",
       "      <td>02 TWO FAMILY HOMES</td>\n",
       "      <td>81</td>\n",
       "      <td>2</td>\n",
       "      <td>995000</td>\n",
       "      <td>2872500</td>\n",
       "      <td>2872500</td>\n",
       "      <td>4750000</td>\n",
       "    </tr>\n",
       "  </tbody>\n",
       "</table>\n",
       "</div>"
      ],
      "text/plain": [
       "                NEIGHBORHOOD                                 TYPE OF HOME  \\\n",
       "0  CHELSEA                    02 TWO FAMILY HOMES                           \n",
       "\n",
       "   TOTAL NO. OF PROPERTIES  NUMBER OF SALES  LOWEST SALE PRICE  \\\n",
       "0                       81                2             995000   \n",
       "\n",
       "   AVERAGE SALE PRICE  MEDIAN SALE PRICE  HIGHEST SALE PRICE  \n",
       "0             2872500            2872500             4750000  "
      ]
     },
     "execution_count": 6,
     "metadata": {},
     "output_type": "execute_result"
    }
   ],
   "source": [
    "df.head(1)"
   ]
  },
  {
   "cell_type": "code",
   "execution_count": 7,
   "id": "5ade66b6",
   "metadata": {},
   "outputs": [
    {
     "data": {
      "text/plain": [
       "NEIGHBORHOOD               0\n",
       "TYPE OF HOME               0\n",
       "TOTAL NO. OF PROPERTIES    0\n",
       "NUMBER OF SALES            0\n",
       "LOWEST SALE PRICE          0\n",
       "AVERAGE SALE PRICE         0\n",
       "MEDIAN SALE PRICE          0\n",
       "HIGHEST SALE PRICE         0\n",
       "dtype: int64"
      ]
     },
     "execution_count": 7,
     "metadata": {},
     "output_type": "execute_result"
    }
   ],
   "source": [
    "#to see if there is any missing values\n",
    "df.isna().sum()"
   ]
  },
  {
   "cell_type": "code",
   "execution_count": 8,
   "id": "15469587",
   "metadata": {},
   "outputs": [
    {
     "data": {
      "text/plain": [
       "0"
      ]
     },
     "execution_count": 8,
     "metadata": {},
     "output_type": "execute_result"
    }
   ],
   "source": [
    "# how many rows are duplicated\n",
    "sum(df.duplicated())"
   ]
  },
  {
   "cell_type": "code",
   "execution_count": 9,
   "id": "ad12e6c6",
   "metadata": {},
   "outputs": [
    {
     "data": {
      "text/plain": [
       "Index(['NEIGHBORHOOD', 'TYPE OF HOME', 'TOTAL NO. OF PROPERTIES',\n",
       "       'NUMBER OF SALES', 'LOWEST SALE PRICE', 'AVERAGE SALE PRICE',\n",
       "       'MEDIAN SALE PRICE', 'HIGHEST SALE PRICE'],\n",
       "      dtype='object')"
      ]
     },
     "execution_count": 9,
     "metadata": {},
     "output_type": "execute_result"
    }
   ],
   "source": [
    "df.columns"
   ]
  },
  {
   "cell_type": "markdown",
   "id": "d0621faa",
   "metadata": {},
   "source": [
    "#### **Question 1: What are the top 10 sales based on the neighborhoods?**"
   ]
  },
  {
   "cell_type": "code",
   "execution_count": 10,
   "id": "cbe12675",
   "metadata": {
    "scrolled": true
   },
   "outputs": [
    {
     "data": {
      "text/plain": [
       "<AxesSubplot:xlabel='NEIGHBORHOOD'>"
      ]
     },
     "execution_count": 10,
     "metadata": {},
     "output_type": "execute_result"
    },
    {
     "data": {
      "image/png": "[encoded data removed]",
      "text/plain": [
       "<Figure size 432x288 with 1 Axes>"
      ]
     },
     "metadata": {
      "needs_background": "light"
     },
     "output_type": "display_data"
    }
   ],
   "source": [
    "top=df.sort_values(by='NUMBER OF SALES',ascending=False)[['NEIGHBORHOOD','NUMBER OF SALES']]\n",
    "top.nlargest(columns='NUMBER OF SALES',n=10).plot(kind='bar',x='NEIGHBORHOOD',y='NUMBER OF SALES')"
   ]
  },
  {
   "cell_type": "markdown",
   "id": "caabe092",
   "metadata": {},
   "source": [
    "Findings:\n",
    "\n",
    "here we can see the top 10 sales based on the neighborhoods"
   ]
  },
  {
   "cell_type": "markdown",
   "id": "5ab58709",
   "metadata": {},
   "source": [
    "#### **Question 2: What are the top 10 sales based on type of home?**"
   ]
  },
  {
   "cell_type": "code",
   "execution_count": 16,
   "id": "4bfab76f",
   "metadata": {},
   "outputs": [
    {
     "data": {
      "text/plain": [
       "<AxesSubplot:xlabel='TYPE OF HOME'>"
      ]
     },
     "execution_count": 16,
     "metadata": {},
     "output_type": "execute_result"
    },
    {
     "data": {
      "image/png": "[encoded data removed]",
      "text/plain": [
       "<Figure size 432x288 with 1 Axes>"
      ]
     },
     "metadata": {
      "needs_background": "light"
     },
     "output_type": "display_data"
    }
   ],
   "source": [
    "top=df.sort_values(by='NUMBER OF SALES',ascending=False)[['TYPE OF HOME','NUMBER OF SALES']]\n",
    "top.nlargest(columns='NUMBER OF SALES',n=10).plot(kind='bar',x='TYPE OF HOME',y='NUMBER OF SALES')"
   ]
  },
  {
   "cell_type": "markdown",
   "id": "612072cc",
   "metadata": {},
   "source": [
    "Findings:\n",
    "    \n",
    "here we can see the top 10 sales based on type of home"
   ]
  },
  {
   "cell_type": "markdown",
   "id": "9c0d3c48",
   "metadata": {},
   "source": [
    "#### Question 3: What are the top 10 home average prices based on the type of home?"
   ]
  },
  {
   "cell_type": "code",
   "execution_count": 23,
   "id": "ad2ea30d",
   "metadata": {},
   "outputs": [
    {
     "data": {
      "text/plain": [
       "<AxesSubplot:xlabel='TYPE OF HOME'>"
      ]
     },
     "execution_count": 23,
     "metadata": {},
     "output_type": "execute_result"
    },
    {
     "data": {
      "image/png": "[encoded data removed]",
      "text/plain": [
       "<Figure size 432x288 with 1 Axes>"
      ]
     },
     "metadata": {
      "needs_background": "light"
     },
     "output_type": "display_data"
    }
   ],
   "source": [
    "top=df.sort_values(by='AVERAGE SALE PRICE',ascending=False)[['TYPE OF HOME','AVERAGE SALE PRICE']]\n",
    "top.nlargest(columns='AVERAGE SALE PRICE',n=10).plot(kind='bar',x='TYPE OF HOME',y='AVERAGE SALE PRICE')"
   ]
  },
  {
   "cell_type": "markdown",
   "id": "302fdd66",
   "metadata": {},
   "source": [
    "Findings:\n",
    "\n",
    "Here we see the avegrage price based on the type of home"
   ]
  }
 ],
 "metadata": {
  "kernelspec": {
   "display_name": "Python 3",
   "language": "python",
   "name": "python3"
  },
  "language_info": {
   "codemirror_mode": {
    "name": "ipython",
    "version": 3
   },
   "file_extension": ".py",
   "mimetype": "text/x-python",
   "name": "python",
   "nbconvert_exporter": "python",
   "pygments_lexer": "ipython3",
   "version": "3.8.8"
  }
 },
 "nbformat": 4,
 "nbformat_minor": 5
}
